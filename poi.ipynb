{
 "cells": [
  {
   "cell_type": "code",
   "execution_count": 1,
   "metadata": {},
   "outputs": [
    {
     "name": "stderr",
     "output_type": "stream",
     "text": [
      "D:\\Temp\\ipykernel_2712\\2734991610.py:3: UserWarning: Shapely 2.0 is installed, but because PyGEOS is also installed, GeoPandas will still use PyGEOS by default for now. To force to use and test Shapely 2.0, you have to set the environment variable USE_PYGEOS=0. You can do this before starting the Python process, or in your code before importing geopandas:\n",
      "\n",
      "import os\n",
      "os.environ['USE_PYGEOS'] = '0'\n",
      "import geopandas\n",
      "\n",
      "In a future release, GeoPandas will switch to using Shapely by default. If you are using PyGEOS directly (calling PyGEOS functions on geometries from GeoPandas), this will then stop working and you are encouraged to migrate from PyGEOS to Shapely 2.0 (https://shapely.readthedocs.io/en/latest/migration_pygeos.html).\n",
      "  import geopandas as gpd\n"
     ]
    }
   ],
   "source": [
    "# import pandana\n",
    "# import osmnx as ox\n",
    "import geopandas as gpd\n",
    "from sqlalchemy import create_engine\n",
    "import pandas as pd\n",
    "import geoalchemy2\n",
    "import numpy as np\n",
    "# import networkx as nx"
   ]
  },
  {
   "cell_type": "code",
   "execution_count": 9,
   "metadata": {},
   "outputs": [],
   "source": [
    "engine = create_engine('postgresql+psycopg2://kb_geo:kYZQK90yvE8aNi54ELINc0yJ1gu6wo7h@\\\n",
    "db03.cluster.strlk.ru/kb_geo')\n",
    "\n",
    "# функция для чтения того, что получили в запросе\n",
    "def select_pg(sql, geom):\n",
    "    return gpd.read_postgis(sql, engine, geom_col = geom, crs = 3857)\n",
    "\n",
    "sql = \"\"\"SELECT objectid, category, subcategory, rubrics address,  st_transform(geom, 3857) as geom FROM kb_geo.strelka_data_russia.poi_all_22\n",
    "WHERE subcategory IN ('Гостиница', 'Продуктовый рынок', 'Продукты', 'Бар, пивная', 'Быстрое питание', 'Кафе, ресторан', 'Кофейня, чайная', 'Общественное питание, столовая', 'Туалет', 'Подарки, сувениры', 'Банкомат', 'Обмен валюты', 'Инфокиоск, инфоцентр')\n",
    "\"\"\"\n",
    "\n",
    "photo_2 = select_pg(sql, 'geom')"
   ]
  },
  {
   "cell_type": "code",
   "execution_count": 12,
   "metadata": {},
   "outputs": [],
   "source": [
    "engine = create_engine('postgresql+psycopg2://kb_geo:kYZQK90yvE8aNi54ELINc0yJ1gu6wo7h@\\\n",
    "db03.cluster.strlk.ru/kb_graph')\n",
    "\n",
    "sql = \"SELECT * FROM baikal_area\"\n",
    "baikal_area = select_pg(sql, 'geom')"
   ]
  },
  {
   "cell_type": "code",
   "execution_count": 21,
   "metadata": {},
   "outputs": [],
   "source": [
    "photo_host_points = photo_host[photo_host.geom.intersects(baikal_area.geom.unary_union)]"
   ]
  },
  {
   "cell_type": "code",
   "execution_count": 23,
   "metadata": {},
   "outputs": [],
   "source": [
    "engine = create_engine('postgresql+psycopg2://kb_geo:kYZQK90yvE8aNi54ELINc0yJ1gu6wo7h@\\\n",
    "db03.cluster.strlk.ru/kb_graph')\n",
    "\n",
    "photo_host_points.to_postgis('baikal_host', engine)"
   ]
  }
 ],
 "metadata": {
  "kernelspec": {
   "display_name": "graph",
   "language": "python",
   "name": "python3"
  },
  "language_info": {
   "codemirror_mode": {
    "name": "ipython",
    "version": 3
   },
   "file_extension": ".py",
   "mimetype": "text/x-python",
   "name": "python",
   "nbconvert_exporter": "python",
   "pygments_lexer": "ipython3",
   "version": "3.10.10"
  },
  "orig_nbformat": 4
 },
 "nbformat": 4,
 "nbformat_minor": 2
}
