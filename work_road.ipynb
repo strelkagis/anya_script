{
 "cells": [
  {
   "cell_type": "code",
   "execution_count": 1,
   "metadata": {},
   "outputs": [
    {
     "name": "stderr",
     "output_type": "stream",
     "text": [
      "c:\\Users\\apikuleva\\Anaconda3\\lib\\site-packages\\geopandas\\_compat.py:123: UserWarning: The Shapely GEOS version (3.8.0-CAPI-1.13.1) is incompatible with the GEOS version PyGEOS was compiled with (3.10.4-CAPI-1.16.2). Conversions between both will be slow.\n",
      "  warnings.warn(\n",
      "c:\\Users\\apikuleva\\Anaconda3\\lib\\site-packages\\osmnx\\projection.py:3: UserWarning: Shapely 2.0 is installed, but because PyGEOS is also installed, GeoPandas will still use PyGEOS by default for now. To force to use and test Shapely 2.0, you have to set the environment variable USE_PYGEOS=0. You can do this before starting the Python process, or in your code before importing geopandas:\n",
      "\n",
      "import os\n",
      "os.environ['USE_PYGEOS'] = '0'\n",
      "import geopandas\n",
      "\n",
      "In a future release, GeoPandas will switch to using Shapely by default. If you are using PyGEOS directly (calling PyGEOS functions on geometries from GeoPandas), this will then stop working and you are encouraged to migrate from PyGEOS to Shapely 2.0 (https://shapely.readthedocs.io/en/latest/migration_pygeos.html).\n",
      "  import geopandas as gpd\n"
     ]
    }
   ],
   "source": [
    "import pandana\n",
    "import osmnx as ox\n",
    "import geopandas as gpd\n",
    "from sqlalchemy import create_engine\n",
    "import psycopg2\n",
    "import pandas as pd\n",
    "import geoalchemy2\n",
    "import numpy as np\n",
    "import networkx as nx"
   ]
  },
  {
   "cell_type": "code",
   "execution_count": 3,
   "metadata": {},
   "outputs": [],
   "source": [
    "# функция для чтения того, что получили в запросе\n",
    "def select_pg(sql):\n",
    "    return pd.read_sql(sql, engine)\n",
    "\n",
    "engine = create_engine('postgresql+psycopg2://kb_geo:kYZQK90yvE8aNi54ELINc0yJ1gu6wo7h@\\\n",
    "db03.cluster.strlk.ru/kb_graph')"
   ]
  },
  {
   "cell_type": "code",
   "execution_count": 6,
   "metadata": {},
   "outputs": [],
   "source": [
    "node_graph = select_pg('select osmid, \\\n",
    "                       st_x(st_transform(geom,4326)) as lng, \\\n",
    "                        st_y(st_transform(geom,4326)) as lat \\\n",
    "                       from baikal_nodes')\n",
    "\n",
    "edge_graph = select_pg('select id, source, target, lenght from baikal_edges')"
   ]
  },
  {
   "cell_type": "code",
   "execution_count": 8,
   "metadata": {},
   "outputs": [],
   "source": [
    "#берем только те ребра, которые совпадают с id узлов \n",
    "edge_graph = edge_graph[edge_graph['source'].isin(node_graph['osmid']) & edge_graph['target'].isin(node_graph['osmid'])]\n",
    "node_graph.set_index('osmid', inplace= True)"
   ]
  },
  {
   "cell_type": "code",
   "execution_count": 9,
   "metadata": {},
   "outputs": [],
   "source": [
    "edge_graph['distant'] = edge_graph['lenght'].round()"
   ]
  },
  {
   "cell_type": "code",
   "execution_count": 12,
   "metadata": {},
   "outputs": [],
   "source": [
    "# создаем экземпляр графа\n",
    "G = nx.from_pandas_edgelist(edge_graph, 'source', 'target', edge_attr='distant')"
   ]
  },
  {
   "cell_type": "code",
   "execution_count": 13,
   "metadata": {},
   "outputs": [
    {
     "name": "stdout",
     "output_type": "stream",
     "text": [
      "Граф несвязный.\n"
     ]
    }
   ],
   "source": [
    "# Проверка связности графа\n",
    "is_connected = nx.is_connected(G)\n",
    "\n",
    "if is_connected:\n",
    "    print(\"Граф связный.\")\n",
    "else:\n",
    "    print(\"Граф несвязный.\")"
   ]
  },
  {
   "cell_type": "code",
   "execution_count": 14,
   "metadata": {},
   "outputs": [],
   "source": [
    "S = [G.subgraph(c).copy() for c in nx.connected_components(G)]\n",
    "\n",
    "# Создание пустого датафрейма\n",
    "combined_df_bridge = pd.DataFrame(columns=['source', 'target', 'Subgraph'])\n",
    "\n",
    "# Объединение датафреймов в один\n",
    "for i, subgraph in enumerate(S):\n",
    "    # Преобразование подграфа в датафрейм\n",
    "    df = pd.DataFrame(list(subgraph.edges()), columns=['source', 'target'])\n",
    "    # Добавление столбца с идентификатором подграфа\n",
    "    df['Subgraph'] = i\n",
    "    # Объединение с общим датафреймом\n",
    "    combined_df_bridge = pd.concat([combined_df_bridge, df], axis=0, ignore_index=True)\n"
   ]
  },
  {
   "cell_type": "code",
   "execution_count": 17,
   "metadata": {},
   "outputs": [],
   "source": [
    "combined_df_bridge_filter = combined_df_bridge['Subgraph'].value_counts().reset_index().rename(columns={\"index\": \"subgraph\", \"Subgraph\": \"count\"})\\\n",
    "[combined_df_bridge['Subgraph'].value_counts().reset_index().rename(columns={\"index\": \"subgraph\", \"Subgraph\": \"count\"})['count'] > 1000]\n"
   ]
  },
  {
   "cell_type": "code",
   "execution_count": 18,
   "metadata": {},
   "outputs": [
    {
     "data": {
      "text/html": [
       "<div>\n",
       "<style scoped>\n",
       "    .dataframe tbody tr th:only-of-type {\n",
       "        vertical-align: middle;\n",
       "    }\n",
       "\n",
       "    .dataframe tbody tr th {\n",
       "        vertical-align: top;\n",
       "    }\n",
       "\n",
       "    .dataframe thead th {\n",
       "        text-align: right;\n",
       "    }\n",
       "</style>\n",
       "<table border=\"1\" class=\"dataframe\">\n",
       "  <thead>\n",
       "    <tr style=\"text-align: right;\">\n",
       "      <th></th>\n",
       "      <th>subgraph</th>\n",
       "      <th>count</th>\n",
       "    </tr>\n",
       "  </thead>\n",
       "  <tbody>\n",
       "    <tr>\n",
       "      <th>0</th>\n",
       "      <td>0</td>\n",
       "      <td>323741</td>\n",
       "    </tr>\n",
       "    <tr>\n",
       "      <th>1</th>\n",
       "      <td>7</td>\n",
       "      <td>2251</td>\n",
       "    </tr>\n",
       "  </tbody>\n",
       "</table>\n",
       "</div>"
      ],
      "text/plain": [
       "   subgraph   count\n",
       "0         0  323741\n",
       "1         7    2251"
      ]
     },
     "execution_count": 18,
     "metadata": {},
     "output_type": "execute_result"
    }
   ],
   "source": [
    "combined_df_bridge_filter"
   ]
  },
  {
   "cell_type": "code",
   "execution_count": 19,
   "metadata": {},
   "outputs": [],
   "source": [
    "combined_df_bridge_filter = combined_df_bridge.merge(combined_df_bridge_filter.head(1), left_on = 'Subgraph', right_on = 'subgraph')"
   ]
  },
  {
   "cell_type": "code",
   "execution_count": 25,
   "metadata": {},
   "outputs": [
    {
     "data": {
      "text/html": [
       "<div>\n",
       "<style scoped>\n",
       "    .dataframe tbody tr th:only-of-type {\n",
       "        vertical-align: middle;\n",
       "    }\n",
       "\n",
       "    .dataframe tbody tr th {\n",
       "        vertical-align: top;\n",
       "    }\n",
       "\n",
       "    .dataframe thead th {\n",
       "        text-align: right;\n",
       "    }\n",
       "</style>\n",
       "<table border=\"1\" class=\"dataframe\">\n",
       "  <thead>\n",
       "    <tr style=\"text-align: right;\">\n",
       "      <th></th>\n",
       "      <th>id</th>\n",
       "      <th>source</th>\n",
       "      <th>target</th>\n",
       "      <th>lenght</th>\n",
       "      <th>distant</th>\n",
       "    </tr>\n",
       "  </thead>\n",
       "  <tbody>\n",
       "    <tr>\n",
       "      <th>0</th>\n",
       "      <td>661757</td>\n",
       "      <td>648761645</td>\n",
       "      <td>648761618</td>\n",
       "      <td>2100.000000</td>\n",
       "      <td>2100.0</td>\n",
       "    </tr>\n",
       "    <tr>\n",
       "      <th>1</th>\n",
       "      <td>661758</td>\n",
       "      <td>648761618</td>\n",
       "      <td>648761645</td>\n",
       "      <td>2100.000000</td>\n",
       "      <td>2100.0</td>\n",
       "    </tr>\n",
       "    <tr>\n",
       "      <th>2</th>\n",
       "      <td>229</td>\n",
       "      <td>3241855285</td>\n",
       "      <td>3241855291</td>\n",
       "      <td>65.987056</td>\n",
       "      <td>66.0</td>\n",
       "    </tr>\n",
       "    <tr>\n",
       "      <th>3</th>\n",
       "      <td>297</td>\n",
       "      <td>3248470605</td>\n",
       "      <td>6842042995</td>\n",
       "      <td>152.852239</td>\n",
       "      <td>153.0</td>\n",
       "    </tr>\n",
       "    <tr>\n",
       "      <th>4</th>\n",
       "      <td>365</td>\n",
       "      <td>3248470684</td>\n",
       "      <td>3248470687</td>\n",
       "      <td>190.562359</td>\n",
       "      <td>191.0</td>\n",
       "    </tr>\n",
       "    <tr>\n",
       "      <th>...</th>\n",
       "      <td>...</td>\n",
       "      <td>...</td>\n",
       "      <td>...</td>\n",
       "      <td>...</td>\n",
       "      <td>...</td>\n",
       "    </tr>\n",
       "    <tr>\n",
       "      <th>661753</th>\n",
       "      <td>661750</td>\n",
       "      <td>7618416588</td>\n",
       "      <td>5085327820</td>\n",
       "      <td>4944.493460</td>\n",
       "      <td>4944.0</td>\n",
       "    </tr>\n",
       "    <tr>\n",
       "      <th>661754</th>\n",
       "      <td>661751</td>\n",
       "      <td>7618416588</td>\n",
       "      <td>5085327820</td>\n",
       "      <td>4137.073546</td>\n",
       "      <td>4137.0</td>\n",
       "    </tr>\n",
       "    <tr>\n",
       "      <th>661755</th>\n",
       "      <td>661752</td>\n",
       "      <td>7618416588</td>\n",
       "      <td>5085328003</td>\n",
       "      <td>1752.552589</td>\n",
       "      <td>1753.0</td>\n",
       "    </tr>\n",
       "    <tr>\n",
       "      <th>661756</th>\n",
       "      <td>661753</td>\n",
       "      <td>7618416588</td>\n",
       "      <td>5085328003</td>\n",
       "      <td>1631.361241</td>\n",
       "      <td>1631.0</td>\n",
       "    </tr>\n",
       "    <tr>\n",
       "      <th>661757</th>\n",
       "      <td>661754</td>\n",
       "      <td>8033175544</td>\n",
       "      <td>5085327196</td>\n",
       "      <td>11263.891010</td>\n",
       "      <td>11264.0</td>\n",
       "    </tr>\n",
       "  </tbody>\n",
       "</table>\n",
       "<p>661758 rows × 5 columns</p>\n",
       "</div>"
      ],
      "text/plain": [
       "            id      source      target        lenght  distant\n",
       "0       661757   648761645   648761618   2100.000000   2100.0\n",
       "1       661758   648761618   648761645   2100.000000   2100.0\n",
       "2          229  3241855285  3241855291     65.987056     66.0\n",
       "3          297  3248470605  6842042995    152.852239    153.0\n",
       "4          365  3248470684  3248470687    190.562359    191.0\n",
       "...        ...         ...         ...           ...      ...\n",
       "661753  661750  7618416588  5085327820   4944.493460   4944.0\n",
       "661754  661751  7618416588  5085327820   4137.073546   4137.0\n",
       "661755  661752  7618416588  5085328003   1752.552589   1753.0\n",
       "661756  661753  7618416588  5085328003   1631.361241   1631.0\n",
       "661757  661754  8033175544  5085327196  11263.891010  11264.0\n",
       "\n",
       "[661758 rows x 5 columns]"
      ]
     },
     "execution_count": 25,
     "metadata": {},
     "output_type": "execute_result"
    }
   ],
   "source": [
    "edge_graph"
   ]
  },
  {
   "cell_type": "code",
   "execution_count": 23,
   "metadata": {},
   "outputs": [],
   "source": [
    "road = combined_df_bridge_filter.merge(edge_graph, left_on = ['source', 'target'], right_on = ['source', 'target'])\n",
    "# road = gpd.GeoDataFrame(road, geometry = road.geometry, crs=\"EPSG:3857\" )\n",
    "# road['Subgraph'] = road['Subgraph'].astype(int)\n",
    "# road[['source', 'target', 'geometry', 'Subgraph']].to_file('edge_graph_connected.geojson')"
   ]
  },
  {
   "cell_type": "code",
   "execution_count": 26,
   "metadata": {},
   "outputs": [
    {
     "data": {
      "text/plain": [
       "160"
      ]
     },
     "execution_count": 26,
     "metadata": {},
     "output_type": "execute_result"
    }
   ],
   "source": [
    "road.to_sql('baikal_edge_graph_connected', engine)"
   ]
  }
 ],
 "metadata": {
  "kernelspec": {
   "display_name": "base",
   "language": "python",
   "name": "python3"
  },
  "language_info": {
   "codemirror_mode": {
    "name": "ipython",
    "version": 3
   },
   "file_extension": ".py",
   "mimetype": "text/x-python",
   "name": "python",
   "nbconvert_exporter": "python",
   "pygments_lexer": "ipython3",
   "version": "3.9.13"
  },
  "orig_nbformat": 4
 },
 "nbformat": 4,
 "nbformat_minor": 2
}
