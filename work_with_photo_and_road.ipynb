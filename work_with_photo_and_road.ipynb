{
 "cells": [
  {
   "cell_type": "code",
   "execution_count": 1,
   "metadata": {},
   "outputs": [
    {
     "name": "stderr",
     "output_type": "stream",
     "text": [
      "D:\\Temp\\ipykernel_5112\\3908045456.py:3: UserWarning: Shapely 2.0 is installed, but because PyGEOS is also installed, GeoPandas will still use PyGEOS by default for now. To force to use and test Shapely 2.0, you have to set the environment variable USE_PYGEOS=0. You can do this before starting the Python process, or in your code before importing geopandas:\n",
      "\n",
      "import os\n",
      "os.environ['USE_PYGEOS'] = '0'\n",
      "import geopandas\n",
      "\n",
      "In a future release, GeoPandas will switch to using Shapely by default. If you are using PyGEOS directly (calling PyGEOS functions on geometries from GeoPandas), this will then stop working and you are encouraged to migrate from PyGEOS to Shapely 2.0 (https://shapely.readthedocs.io/en/latest/migration_pygeos.html).\n",
      "  import geopandas as gpd\n"
     ]
    }
   ],
   "source": [
    "# import pandana\n",
    "# import osmnx as ox\n",
    "import geopandas as gpd\n",
    "from sqlalchemy import create_engine\n",
    "import psycopg2\n",
    "import pandas as pd\n",
    "import geoalchemy2\n",
    "import numpy as np\n",
    "import networkx as nx"
   ]
  },
  {
   "cell_type": "code",
   "execution_count": 2,
   "metadata": {},
   "outputs": [],
   "source": [
    "# функция для чтения того, что получили в запросе\n",
    "def select_pg(sql, geom):\n",
    "    return gpd.read_postgis(sql, engine, geom_col = geom, crs = 3857)\n",
    "\n",
    "engine = create_engine('postgresql+psycopg2://kb_geo:kYZQK90yvE8aNi54ELINc0yJ1gu6wo7h@\\\n",
    "db03.cluster.strlk.ru/kb_geo')\n",
    "\n",
    "sql = \"SELECT * FROM strelka_data_russia.vk_photo_2022_meta where (photo_region = 'Иркутская область' or photo_region = 'Республика Бурятия')  and owner_id !=0\"\n",
    "photo = select_pg(sql, 'geom')\n",
    "\n",
    "#убираем те фотографии где owner_id равен нулю (это фотографии из групп)\n",
    "photo = photo[photo['owner_id'] != 0]\n",
    "#убираем те фотографии где город пользователя не указан \n",
    "photo = photo[photo['city'].notna()]\n",
    "#убираем те фотографии где город пользователя равен городу фотографирование \n",
    "photo_main = photo[photo['city'] != photo['photo_city']]\n",
    "#преоброзоавние колонки со датой и временем в нормальный вид \n",
    "photo_main['date_time'] = pd.to_datetime(photo_1['date_time'], format='%Y-%m-%d %H:%M:%S')"
   ]
  },
  {
   "cell_type": "code",
   "execution_count": 3,
   "metadata": {},
   "outputs": [],
   "source": [
    "#подключаемся к базе куда хотим положить фотографии\n",
    "def select_pg(sql):\n",
    "    return pd.read_sql(sql, engine)\n",
    "\n",
    "engine = create_engine('postgresql+psycopg2://kb_geo:kYZQK90yvE8aNi54ELINc0yJ1gu6wo7h@\\\n",
    "db03.cluster.strlk.ru/kb_graph')"
   ]
  },
  {
   "cell_type": "code",
   "execution_count": 578,
   "metadata": {},
   "outputs": [],
   "source": [
    "sql = \"SELECT id, rang, lng, lat FROM baikal_attractor\"\n",
    "baikal_attractor = select_pg(sql)\n",
    "baikal_attractor['rang'].value_counts()"
   ]
  },
  {
   "cell_type": "code",
   "execution_count": null,
   "metadata": {},
   "outputs": [],
   "source": [
    "#все летние фотографии \n",
    "photo_main[(photo_main['month'] >= 5) & (photo_main['month'] <= 10)]\n",
    "\n",
    "#все зимние фотографии \n",
    "photo_main[(photo_main['month'] < 5) | (photo_main['month'] > 10)]"
   ]
  },
  {
   "cell_type": "code",
   "execution_count": 13,
   "metadata": {},
   "outputs": [],
   "source": [
    "# cтатистика по месяцам у всех пользователей (график)\n",
    "\n",
    "statistic_month = photo_main['month'].value_counts().reset_index().rename({'index':'month', 'month':'count'})\n",
    "statistic_month = statistic_month.sort_values('index').rename(columns = {'index':'month', 'month':'count'})\n",
    "statistic_month.set_index('month').plot()"
   ]
  },
  {
   "cell_type": "code",
   "execution_count": 20,
   "metadata": {},
   "outputs": [
    {
     "data": {
      "image/png": "[encoded data removed]",
      "text/plain": [
       "<Figure size 640x480 with 1 Axes>"
      ]
     },
     "metadata": {},
     "output_type": "display_data"
    }
   ],
   "source": [
    "# cтатистика по месяцам у всех пользователей (красивая гистрограмма)\n",
    "\n",
    "import matplotlib.pyplot as plt\n",
    "\n",
    "plt.hist(photo_main['month'], color='orange', rwidth=0.8, bins=12)\n",
    "plt.xlabel('Месяц')\n",
    "plt.ylabel('Количество фотографий')\n",
    "plt.title('Распределение фотографий по месяцам')\n",
    "plt.xticks(np.arange(1, 13), np.arange(1, 13))\n",
    "plt.show()"
   ]
  },
  {
   "cell_type": "code",
   "execution_count": null,
   "metadata": {},
   "outputs": [],
   "source": [
    "#создание гексагонов из фотографий (размер 7)\n",
    "\n",
    "photo_hex = (photo_main\n",
    " .assign(count=1)\n",
    " .h3.geo_to_h3_aggregate(7))\n",
    "\n",
    "# photo_winter_hex.to_file('photo_winter_hex.geojson')"
   ]
  },
  {
   "cell_type": "code",
   "execution_count": null,
   "metadata": {},
   "outputs": [],
   "source": [
    "#читаем таблицу со всеми дорогами на байкале \n",
    "\n",
    "sql = \"SELECT * FROM baikal_edges\"\n",
    "baikal_edges_all = select_pg(sql, 'geom')\n",
    "baikal_edges_all['distant'] = baikal_edges_all['geom'].length.round()\n",
    "\n",
    "#создание графа \n",
    "# G = nx.from_pandas_edgelist(baikal_edges_all, 'u', 'v', edge_attr='distant')"
   ]
  },
  {
   "cell_type": "code",
   "execution_count": 441,
   "metadata": {},
   "outputs": [],
   "source": [
    "baikal_edges_all['buffer'] = baikal_edges_all['geom'].buffer(100)"
   ]
  },
  {
   "cell_type": "code",
   "execution_count": 442,
   "metadata": {},
   "outputs": [],
   "source": [
    "baikal_edges_all_buffer = gpd.GeoDataFrame(baikal_edges_all, geometry = baikal_edges_all['buffer'])"
   ]
  },
  {
   "cell_type": "code",
   "execution_count": 451,
   "metadata": {},
   "outputs": [],
   "source": [
    "from shapely import wkt\n",
    "import pandas as pd"
   ]
  },
  {
   "cell_type": "code",
   "execution_count": 443,
   "metadata": {},
   "outputs": [
    {
     "ename": "ValueError",
     "evalue": "'right_df' should be GeoDataFrame, got <class 'pandas.core.frame.DataFrame'>",
     "output_type": "error",
     "traceback": [
      "\u001b[1;31m---------------------------------------------------------------------------\u001b[0m",
      "\u001b[1;31mValueError\u001b[0m                                Traceback (most recent call last)",
      "Cell \u001b[1;32mIn[443], line 1\u001b[0m\n\u001b[1;32m----> 1\u001b[0m baikal_edges_all_buffer_photo \u001b[39m=\u001b[39m baikal_edges_all_buffer\u001b[39m.\u001b[39;49msjoin(baikal_luster_photo_owner_id, how\u001b[39m=\u001b[39;49m\u001b[39m'\u001b[39;49m\u001b[39mleft\u001b[39;49m\u001b[39m'\u001b[39;49m, predicate\u001b[39m=\u001b[39;49m\u001b[39m'\u001b[39;49m\u001b[39mintersects\u001b[39;49m\u001b[39m'\u001b[39;49m)\n",
      "File \u001b[1;32mc:\\Users\\apikuleva\\Anaconda3\\envs\\graph\\lib\\site-packages\\geopandas\\geodataframe.py:2061\u001b[0m, in \u001b[0;36mGeoDataFrame.sjoin\u001b[1;34m(self, df, *args, **kwargs)\u001b[0m\n\u001b[0;32m   1983\u001b[0m \u001b[39mdef\u001b[39;00m \u001b[39msjoin\u001b[39m(\u001b[39mself\u001b[39m, df, \u001b[39m*\u001b[39margs, \u001b[39m*\u001b[39m\u001b[39m*\u001b[39mkwargs):\n\u001b[0;32m   1984\u001b[0m     \u001b[39m\"\"\"Spatial join of two GeoDataFrames.\u001b[39;00m\n\u001b[0;32m   1985\u001b[0m \n\u001b[0;32m   1986\u001b[0m \u001b[39m    See the User Guide page :doc:`../../user_guide/mergingdata` for details.\u001b[39;00m\n\u001b[1;32m   (...)\u001b[0m\n\u001b[0;32m   2059\u001b[0m \u001b[39m    sjoin : equivalent top-level function\u001b[39;00m\n\u001b[0;32m   2060\u001b[0m \u001b[39m    \"\"\"\u001b[39;00m\n\u001b[1;32m-> 2061\u001b[0m     \u001b[39mreturn\u001b[39;00m geopandas\u001b[39m.\u001b[39msjoin(left_df\u001b[39m=\u001b[39m\u001b[39mself\u001b[39m, right_df\u001b[39m=\u001b[39mdf, \u001b[39m*\u001b[39margs, \u001b[39m*\u001b[39m\u001b[39m*\u001b[39mkwargs)\n",
      "File \u001b[1;32mc:\\Users\\apikuleva\\Anaconda3\\envs\\graph\\lib\\site-packages\\geopandas\\tools\\sjoin.py:122\u001b[0m, in \u001b[0;36msjoin\u001b[1;34m(left_df, right_df, how, predicate, lsuffix, rsuffix, **kwargs)\u001b[0m\n\u001b[0;32m    119\u001b[0m     first \u001b[39m=\u001b[39m \u001b[39mnext\u001b[39m(\u001b[39miter\u001b[39m(kwargs\u001b[39m.\u001b[39mkeys()))\n\u001b[0;32m    120\u001b[0m     \u001b[39mraise\u001b[39;00m \u001b[39mTypeError\u001b[39;00m(\u001b[39mf\u001b[39m\u001b[39m\"\u001b[39m\u001b[39msjoin() got an unexpected keyword argument \u001b[39m\u001b[39m'\u001b[39m\u001b[39m{\u001b[39;00mfirst\u001b[39m}\u001b[39;00m\u001b[39m'\u001b[39m\u001b[39m\"\u001b[39m)\n\u001b[1;32m--> 122\u001b[0m _basic_checks(left_df, right_df, how, lsuffix, rsuffix)\n\u001b[0;32m    124\u001b[0m indices \u001b[39m=\u001b[39m _geom_predicate_query(left_df, right_df, predicate)\n\u001b[0;32m    126\u001b[0m joined \u001b[39m=\u001b[39m _frame_join(indices, left_df, right_df, how, lsuffix, rsuffix)\n",
      "File \u001b[1;32mc:\\Users\\apikuleva\\Anaconda3\\envs\\graph\\lib\\site-packages\\geopandas\\tools\\sjoin.py:155\u001b[0m, in \u001b[0;36m_basic_checks\u001b[1;34m(left_df, right_df, how, lsuffix, rsuffix)\u001b[0m\n\u001b[0;32m    150\u001b[0m     \u001b[39mraise\u001b[39;00m \u001b[39mValueError\u001b[39;00m(\n\u001b[0;32m    151\u001b[0m         \u001b[39m\"\u001b[39m\u001b[39m'\u001b[39m\u001b[39mleft_df\u001b[39m\u001b[39m'\u001b[39m\u001b[39m should be GeoDataFrame, got \u001b[39m\u001b[39m{}\u001b[39;00m\u001b[39m\"\u001b[39m\u001b[39m.\u001b[39mformat(\u001b[39mtype\u001b[39m(left_df))\n\u001b[0;32m    152\u001b[0m     )\n\u001b[0;32m    154\u001b[0m \u001b[39mif\u001b[39;00m \u001b[39mnot\u001b[39;00m \u001b[39misinstance\u001b[39m(right_df, GeoDataFrame):\n\u001b[1;32m--> 155\u001b[0m     \u001b[39mraise\u001b[39;00m \u001b[39mValueError\u001b[39;00m(\n\u001b[0;32m    156\u001b[0m         \u001b[39m\"\u001b[39m\u001b[39m'\u001b[39m\u001b[39mright_df\u001b[39m\u001b[39m'\u001b[39m\u001b[39m should be GeoDataFrame, got \u001b[39m\u001b[39m{}\u001b[39;00m\u001b[39m\"\u001b[39m\u001b[39m.\u001b[39mformat(\u001b[39mtype\u001b[39m(right_df))\n\u001b[0;32m    157\u001b[0m     )\n\u001b[0;32m    159\u001b[0m allowed_hows \u001b[39m=\u001b[39m [\u001b[39m\"\u001b[39m\u001b[39mleft\u001b[39m\u001b[39m\"\u001b[39m, \u001b[39m\"\u001b[39m\u001b[39mright\u001b[39m\u001b[39m\"\u001b[39m, \u001b[39m\"\u001b[39m\u001b[39minner\u001b[39m\u001b[39m\"\u001b[39m]\n\u001b[0;32m    160\u001b[0m \u001b[39mif\u001b[39;00m how \u001b[39mnot\u001b[39;00m \u001b[39min\u001b[39;00m allowed_hows:\n",
      "\u001b[1;31mValueError\u001b[0m: 'right_df' should be GeoDataFrame, got <class 'pandas.core.frame.DataFrame'>"
     ]
    }
   ],
   "source": [
    "baikal_edges_all_buffer_photo = baikal_edges_all_buffer.sjoin(baikal_luster_photo_owner_id, how='left', predicate='intersects')"
   ]
  },
  {
   "cell_type": "code",
   "execution_count": 455,
   "metadata": {},
   "outputs": [],
   "source": [
    "G = nx.from_pandas_edgelist(baikal_edges_all, 'u', 'v', edge_attr='distant')\n",
    "G.add_edge(648761618, 648761645, distant=2100)\n",
    "edge_graph = nx.to_pandas_edgelist(G, source='source', target='target', nodelist=None, dtype=None, edge_key=None)"
   ]
  },
  {
   "cell_type": "code",
   "execution_count": 89,
   "metadata": {},
   "outputs": [],
   "source": [
    "#считываем все дороги на байкале \n",
    "sql = \"SELECT * FROM baikal_edges\"\n",
    "baikal_edges_all = select_pg(sql, 'geom')\n",
    "#округляем длину дорог для более быстрых расчетов \n",
    "baikal_edges_all['distant'] = baikal_edges_all['geom'].length.round()\n",
    "#создаем граф из ребер, определяем вес как расстояние \n",
    "G = nx.from_pandas_edgelist(baikal_edges_all, 'u', 'v', edge_attr='distant')\n",
    "#все сабграфы записываем в лист \n",
    "S = [G.subgraph(c).copy() for c in nx.connected_components(G)]\n",
    "\n",
    "# Создание пустого датафрейма\n",
    "combined_df = pd.DataFrame(columns=['source', 'target', 'subgraph'])\n",
    "\n",
    "# Цикл по всем subgraph\n",
    "for i, subgraph in enumerate(S):\n",
    "    # Преобразование подграфа в датафрейм\n",
    "    df = pd.DataFrame(list(subgraph.edges()), columns=['source', 'target'])\n",
    "    # Добавление столбца с идентификатором подграфа\n",
    "    df['subgraph'] = i\n",
    "    # Объединение с общим датафреймом\n",
    "    combined_df = pd.concat([combined_df, df], axis=0, ignore_index=True)\n",
    "\n",
    "\n",
    "road = combined_df.merge(baikal_edges_all, left_on = ['source', 'target'], right_on = ['u', 'v'])\n",
    "road['subgraph'] = road['subgraph'].astype(int)\n",
    "road = gpd.GeoDataFrame(road, geometry = road.geom, crs=\"EPSG:3857\")\n",
    "road_filter = road['subgraph'].value_counts().reset_index()[road['subgraph'].value_counts().reset_index()['subgraph'] > 1000]\n",
    "road_itog = road.merge(road_filter, left_on = 'subgraph', right_on = 'index')\n",
    "\n",
    "#получаем датафрэйм из всех графов, но с указанием к какому подграфу относится\n",
    "road_itog[['u', 'v', 'subgraph_x', 'geometry']].to_file('baikal_edges_all_new.geojson')\n"
   ]
  }
 ],
 "metadata": {
  "kernelspec": {
   "display_name": "graph",
   "language": "python",
   "name": "python3"
  },
  "language_info": {
   "codemirror_mode": {
    "name": "ipython",
    "version": 3
   },
   "file_extension": ".py",
   "mimetype": "text/x-python",
   "name": "python",
   "nbconvert_exporter": "python",
   "pygments_lexer": "ipython3",
   "version": "3.10.10"
  },
  "orig_nbformat": 4
 },
 "nbformat": 4,
 "nbformat_minor": 2
}
