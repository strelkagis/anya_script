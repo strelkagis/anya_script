{
 "cells": [
  {
   "cell_type": "code",
   "execution_count": 2,
   "metadata": {},
   "outputs": [],
   "source": [
    "\n",
    "import pandana\n",
    "import osmnx as ox\n",
    "import geopandas as gpd\n",
    "from sqlalchemy import create_engine\n",
    "import psycopg2\n",
    "import pandas as pd\n",
    "import geoalchemy2\n",
    "import numpy as np"
   ]
  },
  {
   "cell_type": "code",
   "execution_count": 3,
   "metadata": {},
   "outputs": [],
   "source": [
    "# функция для нахождения расстояния между соседними точками. На вход принимает геодатафрэйм с точкой, возвращает датафрэйс с расстояниями между соседними точками (distance) и разницей между этими расстояниями \n",
    "def duff_dist(data):\n",
    "  data = data.to_crs('epsg:3857')\n",
    "  data['lng'] = data.centroid.x\n",
    "  data['lat'] = data.centroid.y\n",
    "  X = data[[\"lng\",\"lat\"]].sort_values(by=[\"lng\",\"lat\"])\n",
    "\n",
    "  df_new = pd.DataFrame(columns = ['index', 'distance','diff'])\n",
    "  for i in range(0, len(X)-1):\n",
    "    dist = math.dist(X.iloc[i],X.iloc[i+1])\n",
    "    dist = np.linalg.norm(X.iloc[i]-X.iloc[i+1])\n",
    "    df_new = df_new.append({'index': str(i), 'distance': dist}, ignore_index=True)\n",
    "\n",
    "  df_new = df_new.sort_values(by=['distance'])\n",
    "  df_new['diff'] = df_new['distance'].diff()\n",
    "  # df_new.to_file(f\"dist_between_all_points.geojson\")\n",
    "  # dist = df_new['diff'].agg('max')+1/3*(df_new['diff'].agg('max'))\n",
    "  return(df_new)\n",
    "  # plt.scatter(df_coord_new['index'], df_new['distance'])\n",
    "  # plt.show()\n"
   ]
  }
 ],
 "metadata": {
  "kernelspec": {
   "display_name": "base",
   "language": "python",
   "name": "python3"
  },
  "language_info": {
   "codemirror_mode": {
    "name": "ipython",
    "version": 3
   },
   "file_extension": ".py",
   "mimetype": "text/x-python",
   "name": "python",
   "nbconvert_exporter": "python",
   "pygments_lexer": "ipython3",
   "version": "3.9.13"
  },
  "orig_nbformat": 4
 },
 "nbformat": 4,
 "nbformat_minor": 2
}
